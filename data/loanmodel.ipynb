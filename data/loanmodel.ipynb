{
 "cells": [
  {
   "cell_type": "code",
   "execution_count": 1,
   "id": "0c88df21",
   "metadata": {},
   "outputs": [],
   "source": [
    "from dotenv import load_dotenv\n",
    "import os\n",
    "import pandas as pd\n",
    "from sklearn.linear_model import LinearRegression\n",
    "from sklearn.model_selection import train_test_split\n",
    "from sklearn.metrics import r2_score, mean_squared_error\n",
    "import matplotlib.pyplot as plt\n"
   ]
  },
  {
   "cell_type": "code",
   "execution_count": 5,
   "id": "87b1973c",
   "metadata": {},
   "outputs": [
    {
     "name": "stdout",
     "output_type": "stream",
     "text": [
      "Current Directory: c:\\Users\\manit\\Desktop\\ml edu2\\loandemo\\data\n",
      "Data Path from .env.dev: ./data/loan_dev_data.csv\n"
     ]
    }
   ],
   "source": [
    "load_dotenv(dotenv_path=\".env.dev\")  \n",
    "\n",
    "print(\"Current Directory:\", os.getcwd())\n",
    "print(\"Data Path from .env.dev:\", data_path)\n",
    "data_path = \"loan_dev_data.csv\"\n",
    "\n"
   ]
  },
  {
   "cell_type": "code",
   "execution_count": 6,
   "id": "22a0f6ce",
   "metadata": {},
   "outputs": [
    {
     "name": "stdout",
     "output_type": "stream",
     "text": [
      "   Age  Income  CreditScore  LoanAmount Employed\n",
      "0   25   30000          650        5000      Yes\n",
      "1   35   45000          700        8000       No\n",
      "2   40   60000          710       10000      Yes\n",
      "3   50   80000          740       15000      Yes\n",
      "4   30   32000          620        4000       No\n"
     ]
    }
   ],
   "source": [
    "df = pd.read_csv(data_path)\n",
    "print(df.head())"
   ]
  },
  {
   "cell_type": "code",
   "execution_count": null,
   "id": "00e90084",
   "metadata": {},
   "outputs": [],
   "source": [
    "# Convert categorical 'Employed' to binary (1 = Yes)\n",
    "df = pd.get_dummies(df, drop_first=True)\n",
    "\n",
    "# Drop any rows with missing values (if any)\n",
    "df = df.dropna()\n"
   ]
  },
  {
   "cell_type": "code",
   "execution_count": null,
   "id": "7c4dd372",
   "metadata": {},
   "outputs": [],
   "source": [
    "X = df.drop(\"LoanAmount\", axis=1)\n",
    "y = df[\"LoanAmount\"]\n"
   ]
  },
  {
   "cell_type": "code",
   "execution_count": null,
   "id": "75926d30",
   "metadata": {},
   "outputs": [
    {
     "name": "stdout",
     "output_type": "stream",
     "text": [
      "R² Score: nan\n",
      "Mean Squared Error: 69935506.55139682\n"
     ]
    },
    {
     "name": "stderr",
     "output_type": "stream",
     "text": [
      "c:\\Users\\manit\\Desktop\\ml edu2\\loandemo\\venv\\Lib\\site-packages\\sklearn\\metrics\\_regression.py:1211: UndefinedMetricWarning: R^2 score is not well-defined with less than two samples.\n",
      "  warnings.warn(msg, UndefinedMetricWarning)\n"
     ]
    }
   ],
   "source": [
    "# Train-test split\n",
    "X_train, X_test, y_train, y_test = train_test_split(X, y, test_size=0.2, random_state=42)\n",
    "\n",
    "# Initialize and train the model\n",
    "model = LinearRegression()\n",
    "model.fit(X_train, y_train)\n",
    "\n",
    "# Predict\n",
    "y_pred = model.predict(X_test)\n",
    "\n",
    "# Evaluate\n",
    "print(\"R² Score:\", r2_score(y_test, y_pred))\n",
    "print(\"Mean Squared Error:\", mean_squared_error(y_test, y_pred))\n",
    "\n",
    "\n",
    "\n"
   ]
  },
  {
   "cell_type": "code",
   "execution_count": null,
   "id": "4d031042",
   "metadata": {},
   "outputs": [],
   "source": [
    "import pickle"
   ]
  },
  {
   "cell_type": "code",
   "execution_count": null,
   "id": "4ad1813f",
   "metadata": {},
   "outputs": [
    {
     "name": "stdout",
     "output_type": "stream",
     "text": [
      "Loaded model prediction: [-362.74515643]\n"
     ]
    }
   ],
   "source": [
    "# Save the model\n",
    "with open(\"model/model.pkl\", \"wb\") as f:\n",
    "    pickle.dump(model, f)\n",
    "\n",
    "# Load the model\n",
    "with open(\"model/model.pkl\", \"rb\") as f:\n",
    "    loaded_model = pickle.load(f)\n",
    "\n",
    "# Test loaded model\n",
    "print(\"Loaded model prediction:\", loaded_model.predict(X_test))"
   ]
  }
 ],
 "metadata": {
  "kernelspec": {
   "display_name": "venv",
   "language": "python",
   "name": "python3"
  },
  "language_info": {
   "codemirror_mode": {
    "name": "ipython",
    "version": 3
   },
   "file_extension": ".py",
   "mimetype": "text/x-python",
   "name": "python",
   "nbconvert_exporter": "python",
   "pygments_lexer": "ipython3",
   "version": "3.12.7"
  }
 },
 "nbformat": 4,
 "nbformat_minor": 5
}
